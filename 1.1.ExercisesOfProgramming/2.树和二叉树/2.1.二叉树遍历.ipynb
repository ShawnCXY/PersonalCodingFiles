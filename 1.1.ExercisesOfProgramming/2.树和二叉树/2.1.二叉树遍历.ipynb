{
 "cells": [
  {
   "cell_type": "markdown",
   "metadata": {},
   "source": [
    "1. 深度优先遍历\n",
    "深度优先遍历指的是，从树的根节点开始，先遍历左子树，然后遍历右子树。我们借助栈结构来实现深度优先遍历。\n",
    "\n",
    "应用场景： 前序遍历、中序遍历、后序遍历\n",
    "\n",
    "2. 广度优先遍历\n",
    "从根节点开始，沿着树的宽度依次遍历树的每个节点。我们借助队列结构来实现树的广度优先遍历。\n",
    "\n",
    "应用场景： 层序遍历"
   ]
  },
  {
   "cell_type": "code",
   "execution_count": 4,
   "metadata": {},
   "outputs": [],
   "source": [
    "# 前序遍历\n",
    "def preOrderTraversal(node, route):\n",
    "    if not node:\n",
    "        return\n",
    "    route.append(node.val)\n",
    "    preOrderTraversal(node.left, route)\n",
    "    preOrderTraversal(node.right, route)\n",
    "\n",
    "def preOrderIter(node, stack, route):\n",
    "    while node or stack:\n",
    "        while node:\n",
    "            route.append(node.val)\n",
    "            stack.append(node)\n",
    "            node = node.left\n",
    "        if stack:\n",
    "            node = stack.pop()\n",
    "            node = node.right\n"
   ]
  },
  {
   "cell_type": "code",
   "execution_count": 5,
   "metadata": {},
   "outputs": [],
   "source": [
    "# 中序遍历\n",
    "def inOrderTraversal(node, route):\n",
    "    if not node:\n",
    "        return \n",
    "    inOrderTraversal(node.left, route)\n",
    "    route.append(node.val)\n",
    "    inOrderTraversal(node.right, route)\n",
    "\n",
    "def inOrderIter(node, stack, route):\n",
    "    while node or stack:\n",
    "        while node:\n",
    "            stack.append(node)\n",
    "            node = node.left\n",
    "        if stack:\n",
    "            node = stack.pop()\n",
    "            route.append(node.val)\n",
    "            node = node.right"
   ]
  },
  {
   "cell_type": "code",
   "execution_count": 6,
   "metadata": {},
   "outputs": [],
   "source": [
    "# 后序遍历\n",
    "def postOrderTraversal(node, route):\n",
    "    if not node:\n",
    "        return \n",
    "    postOrderTraversal(node.left, route)\n",
    "    postOrderTraversal(node.right, route)\n",
    "    route.append(node.val)\n",
    "\n",
    "def postOrderIter(node, stack, pre, route):\n",
    "    while node or stack:\n",
    "        while node:\n",
    "            stack.append(node)\n",
    "            node = node.left\n",
    "        if stack:\n",
    "            node = stack.pop()\n",
    "            if not node.right or pre == node.right:\n",
    "                route.append(node.val)\n",
    "                pre = node \n",
    "                node = None\n",
    "            else:\n",
    "                stack.append(node)\n",
    "                node = node.right"
   ]
  },
  {
   "cell_type": "code",
   "execution_count": 7,
   "metadata": {},
   "outputs": [],
   "source": [
    "# 层序遍历\n",
    "def levelOrderIter(node, queue, route):\n",
    "    queue.append(node)\n",
    "    while queue:\n",
    "        num = len(queue)\n",
    "        for _ in range(num):\n",
    "            node = queue.pop(0)\n",
    "            route.append(node.val)\n",
    "            if node.left:\n",
    "                queue.append(node.left)\n",
    "            if node.right:\n",
    "                queue.append(node.right)\n",
    "        "
   ]
  },
  {
   "cell_type": "code",
   "execution_count": 8,
   "metadata": {},
   "outputs": [
    {
     "name": "stdout",
     "output_type": "stream",
     "text": [
      "preOrderTraversal:['A', 'B', 'D', 'F', 'E', 'C', 'G', 'H', 'I']\n",
      "preOrderIter:['A', 'B', 'D', 'F', 'E', 'C', 'G', 'H', 'I']\n",
      "inOrderTraversal:['D', 'B', 'E', 'F', 'A', 'G', 'H', 'C', 'I']\n",
      "inOrderIter:['D', 'B', 'E', 'F', 'A', 'G', 'H', 'C', 'I']\n",
      "postOrderTraversal:['D', 'E', 'F', 'B', 'H', 'G', 'I', 'C', 'A']\n",
      "postOrderIter:['D', 'E', 'F', 'B', 'H', 'G', 'I', 'C', 'A']\n",
      "levelOrderIter:['A', 'B', 'C', 'D', 'F', 'G', 'I', 'E', 'H']\n"
     ]
    }
   ],
   "source": [
    "class Node:\n",
    "    def __init__(self, value, left=None, right=None):\n",
    "        self.val = value\n",
    "        self.left = left\n",
    "        self.right = right\n",
    "\n",
    "node5 = Node('E', None, None)\n",
    "node3 = Node('D', None, None)\n",
    "node4 = Node('F', node5, None)\n",
    "node2 = Node('B', node3, node4)\n",
    "node8 = Node('H', None, None)\n",
    "node7 = Node('G', None, node8)\n",
    "node9 = Node('I', None, None)\n",
    "node6 = Node('C', node7, node9)\n",
    "head = node1 = Node('A', node2, node6)\n",
    "\n",
    "\n",
    "route = []\n",
    "preOrderTraversal(head, route)\n",
    "print(\"preOrderTraversal:{}\".format(route))\n",
    "route = []\n",
    "preOrderIter(head, [], route)\n",
    "print(\"preOrderIter:{}\".format(route))\n",
    "\n",
    "route = []\n",
    "inOrderTraversal(head, route)\n",
    "print(\"inOrderTraversal:{}\".format(route))\n",
    "route = []\n",
    "inOrderIter(head, [], route)\n",
    "print(\"inOrderIter:{}\".format(route))\n",
    "\n",
    "route = []\n",
    "postOrderTraversal(head, route)\n",
    "print(\"postOrderTraversal:{}\".format(route))\n",
    "route = []\n",
    "postOrderIter(head, [], None, route)\n",
    "print(\"postOrderIter:{}\".format(route))\n",
    "\n",
    "route = []\n",
    "levelOrderIter(head, [], route)\n",
    "print(\"levelOrderIter:{}\".format(route))"
   ]
  }
 ],
 "metadata": {
  "kernelspec": {
   "display_name": "Python 3.5.4 ('python3.5')",
   "language": "python",
   "name": "python3"
  },
  "language_info": {
   "codemirror_mode": {
    "name": "ipython",
    "version": 3
   },
   "file_extension": ".py",
   "mimetype": "text/x-python",
   "name": "python",
   "nbconvert_exporter": "python",
   "pygments_lexer": "ipython3",
   "version": "3.9.6"
  },
  "orig_nbformat": 4,
  "vscode": {
   "interpreter": {
    "hash": "d36d0aa789db2a0cdb40f2b2dc06ff6d6e10c9ec818a8016b7492b3da831fa4e"
   }
  }
 },
 "nbformat": 4,
 "nbformat_minor": 2
}
