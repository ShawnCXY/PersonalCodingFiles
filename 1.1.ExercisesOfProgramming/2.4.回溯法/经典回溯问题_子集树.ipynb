{
 "cells": [
  {
   "cell_type": "code",
   "execution_count": 10,
   "metadata": {},
   "outputs": [
    {
     "name": "stdout",
     "output_type": "stream",
     "text": [
      "最优值：1， 最优解：[0, 0, 1]\n",
      "最优值：4， 最优解：[0, 1, 0]\n",
      "最优值：5， 最优解：[0, 1, 1]\n",
      "最优值：5， 最优解：[1, 0, 0]\n",
      "最优值：6， 最优解：[1, 0, 1]\n"
     ]
    }
   ],
   "source": [
    "# 1、0-1背包问题\n",
    "# 从所给重量、价值不同的物品中挑选几个物品放入背包，使得在满足背包不超重的情况下，背包内物品价值最大。它的解空间就是一个典型的子集树。\n",
    "def backTrackFunc(wList, vList, C):\n",
    "    def backTrack(t, curX, curWeight, curValue, bestValue, bestX):\n",
    "        # curX：当前路径\n",
    "        # curWeight：当前放入背包的物品总重量  \n",
    "        # curValue：当前放入背包的物品总价值  \n",
    "        # bestValue：最优值；当前的最大价值，初始化为0  \n",
    "        # bestX：最优解；BestX[i]=1代表物品i放入背包，0代表不放入 \n",
    "        if t >= N:\n",
    "            if curValue > bestValue:\n",
    "                bestValue = curValue\n",
    "                bestX = curX.copy()\n",
    "                print(\"最优值：{}， 最优解：{}\".format(bestValue, bestX))\n",
    "        else:\n",
    "            for i in range(2):\n",
    "                curX[t] = i\n",
    "                if i == 0:\n",
    "                    backTrack(t+1, curX, curWeight, curValue, bestValue, bestX)\n",
    "                else:\n",
    "                    if (curWeight + wList[t]) <= C:\n",
    "                        curWeight += wList[t]\n",
    "                        curValue += vList[t]\n",
    "                        backTrack(t+1, curX, curWeight, curValue, bestValue, bestX)\n",
    "                        curWeight -= wList[t]\n",
    "                        curValue -= vList[t]\n",
    "    \n",
    "    wList = wList  # 每个物品的重量 \n",
    "    vList = vList  # 每个物品的价值  \n",
    "    C = C          # 背包的容量\n",
    "    N = len(wList) # 物品的数量\n",
    "\n",
    "    backTrack(0, [0]*N, 0, 0, 0, [0]*N) \n",
    "\n",
    "\n",
    "backTrackFunc([10,8,5], [5,4,1], 16)\n",
    "\n",
    "   \n",
    "\n"
   ]
  },
  {
   "cell_type": "code",
   "execution_count": null,
   "metadata": {},
   "outputs": [],
   "source": []
  }
 ],
 "metadata": {
  "interpreter": {
   "hash": "8668f5755210c1292fd1bdc78b88c4073d38eab89bdbbbd532bb2f2e581ea9bd"
  },
  "kernelspec": {
   "display_name": "Python 3.5.4 64-bit ('python3.5': conda)",
   "language": "python",
   "name": "python3"
  },
  "language_info": {
   "codemirror_mode": {
    "name": "ipython",
    "version": 3
   },
   "file_extension": ".py",
   "mimetype": "text/x-python",
   "name": "python",
   "nbconvert_exporter": "python",
   "pygments_lexer": "ipython3",
   "version": "3.5.4"
  },
  "orig_nbformat": 4
 },
 "nbformat": 4,
 "nbformat_minor": 2
}
