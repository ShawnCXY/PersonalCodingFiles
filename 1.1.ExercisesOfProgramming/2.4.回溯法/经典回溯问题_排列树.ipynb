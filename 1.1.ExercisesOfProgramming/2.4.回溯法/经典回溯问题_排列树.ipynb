{
 "cells": [
  {
   "cell_type": "code",
   "execution_count": 1,
   "metadata": {},
   "outputs": [
    {
     "name": "stdout",
     "output_type": "stream",
     "text": [
      "1 3\n"
     ]
    }
   ],
   "source": [
    "# 1、旅行售货员问题\n",
    "# 一个售货员把几个城市旅行一遍，要求走的路程最小。它的解就是几个城市的排列，解空间就是排列树。\n",
    "\n",
    "x = 1 #定义一个变量\n",
    "\n",
    "def fun():\n",
    "    y=3\n",
    "    print (x,y) #定义一个函数，这个函数会调用变量x\n",
    "\n",
    "fun()"
   ]
  },
  {
   "cell_type": "code",
   "execution_count": 22,
   "metadata": {},
   "outputs": [
    {
     "name": "stdout",
     "output_type": "stream",
     "text": [
      "17 66\n"
     ]
    }
   ],
   "source": [
    "\n",
    "\n",
    "def fun():\n",
    "    def ff():\n",
    "        global x #声明这个 x 变量为全局变量，相当于授权。\n",
    "        global y\n",
    "        y=66\n",
    "        x +=1 #这个函数会修改变量x\n",
    "        print (x,y) #定义一个函数，这个函数会调用变量x\n",
    "\n",
    "    x = 9 #定义一个变量\n",
    "    ff()\n",
    "\n",
    "fun()"
   ]
  },
  {
   "cell_type": "code",
   "execution_count": 24,
   "metadata": {},
   "outputs": [
    {
     "data": {
      "text/plain": [
       "17"
      ]
     },
     "execution_count": 24,
     "metadata": {},
     "output_type": "execute_result"
    }
   ],
   "source": [
    "x"
   ]
  }
 ],
 "metadata": {
  "interpreter": {
   "hash": "8668f5755210c1292fd1bdc78b88c4073d38eab89bdbbbd532bb2f2e581ea9bd"
  },
  "kernelspec": {
   "display_name": "Python 3.5.4 64-bit ('python3.5': conda)",
   "language": "python",
   "name": "python3"
  },
  "language_info": {
   "codemirror_mode": {
    "name": "ipython",
    "version": 3
   },
   "file_extension": ".py",
   "mimetype": "text/x-python",
   "name": "python",
   "nbconvert_exporter": "python",
   "pygments_lexer": "ipython3",
   "version": "3.5.4"
  },
  "orig_nbformat": 4
 },
 "nbformat": 4,
 "nbformat_minor": 2
}
