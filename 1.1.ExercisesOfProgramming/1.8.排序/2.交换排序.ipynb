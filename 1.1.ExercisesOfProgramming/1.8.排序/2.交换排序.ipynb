{
 "cells": [
  {
   "cell_type": "code",
   "execution_count": null,
   "metadata": {},
   "outputs": [],
   "source": [
    "# 2、交换排序\n",
    "# 1）冒泡排序\n",
    "# 2）快速排序：对冒泡排序的一种改进。通过一趟排序，将待排序记录分割成独立的两部分，其中一部分记录的关键字均比另一部分记录的关键字小，则可分别对这两部分记录继续进行排序，以达到整个序列有序。\n",
    "# （时间复杂度：平均O(nlogn)/最坏O(n^2)、空间复杂度：O(logn)）"
   ]
  }
 ],
 "metadata": {
  "language_info": {
   "name": "python"
  },
  "orig_nbformat": 4
 },
 "nbformat": 4,
 "nbformat_minor": 2
}
