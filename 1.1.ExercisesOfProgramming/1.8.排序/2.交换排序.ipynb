{
 "cells": [
  {
   "cell_type": "markdown",
   "metadata": {},
   "source": [
    "2、交换排序\n",
    "    1）冒泡排序：首先将第一个记录的关键字和第二个记录的关键字进行比较，若为逆序，则将两个记录交换之，然后比较第二个记录和第三个记录的关键字。以此类推，直至第n-1个记录和第n个记录的关键字进行过比较为止。\n",
    "    2）快速排序：对冒泡排序的一种改进。通过一趟排序，将待排序记录分割成独立的两部分，其中一部分记录的关键字均比另一部分记录的关键字小，则可分别对这两部分记录继续进行排序，以达到整个序列有序。\n",
    "    （时间复杂度：平均O(nlogn)/最坏O(n^2)、空间复杂度：O(logn)）"
   ]
  },
  {
   "cell_type": "code",
   "execution_count": 2,
   "metadata": {},
   "outputs": [],
   "source": [
    "# 1）冒泡排序\n",
    "# 时间复杂度：时间复杂度：平均O(n^2)/最坏O(n^2)、空间复杂度：O(1)\n",
    "def bubbleSort(arr):\n",
    "    for i in range(1, len(arr)):\n",
    "        for j in range(len(arr)-1):\n",
    "            if arr[j] > arr[j+1]:\n",
    "                arr[j], arr[j+1] = arr[j+1], arr[j]\n",
    "    return arr"
   ]
  },
  {
   "cell_type": "code",
   "execution_count": 5,
   "metadata": {},
   "outputs": [],
   "source": [
    "# 2）快速排序\n",
    "# 时间复杂度：平均O(nlogn)/最坏O(n^2)、空间复杂度：O(logn)\n",
    "def partition(arr, l, r):\n",
    "    # 交换子数组arr[l:r+1]的记录，枢轴记录到位，并返回其所在的为止。此时，在它之前（后）的记录均不大（小）于它。\n",
    "    temp = arr[r]\n",
    "    while l < r:\n",
    "        while l < r and arr[l] <= temp:\n",
    "            l += 1\n",
    "        arr[r] = arr[l]\n",
    "        while l < r and arr[r] >= temp:\n",
    "            r -= 1\n",
    "        arr[l] = arr[r]\n",
    "    arr[r] = temp\n",
    "    return l \n",
    "\n",
    "def qSort(arr, l, r):\n",
    "    # 对子数组arr[l:r+1]做快速排序\n",
    "    if l < r:\n",
    "        m = partition(arr, l, r)\n",
    "        qSort(arr, l, m-1)\n",
    "        qSort(arr, m+1, r)\n",
    "\n",
    "def quickSort(arr):\n",
    "    qSort(arr, 0, len(arr)-1)\n",
    "    return arr "
   ]
  },
  {
   "cell_type": "code",
   "execution_count": 8,
   "metadata": {},
   "outputs": [
    {
     "name": "stdout",
     "output_type": "stream",
     "text": [
      "[0, 1, 2, 3, 4, 5, 6, 7, 8, 9]\n",
      "[0, 1, 2, 3, 4, 5, 6, 7, 8, 9]\n"
     ]
    }
   ],
   "source": [
    "arr = [8,0,1,4,5,2,6,7,3,9]\n",
    "print(bubbleSort(arr.copy()))\n",
    "print(quickSort(arr.copy()))"
   ]
  }
 ],
 "metadata": {
  "kernelspec": {
   "display_name": "Python 3.5.4 ('python3.5')",
   "language": "python",
   "name": "python3"
  },
  "language_info": {
   "codemirror_mode": {
    "name": "ipython",
    "version": 3
   },
   "file_extension": ".py",
   "mimetype": "text/x-python",
   "name": "python",
   "nbconvert_exporter": "python",
   "pygments_lexer": "ipython3",
   "version": "3.5.4"
  },
  "orig_nbformat": 4,
  "vscode": {
   "interpreter": {
    "hash": "d36d0aa789db2a0cdb40f2b2dc06ff6d6e10c9ec818a8016b7492b3da831fa4e"
   }
  }
 },
 "nbformat": 4,
 "nbformat_minor": 2
}
