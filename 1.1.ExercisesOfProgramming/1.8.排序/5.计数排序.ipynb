{
 "cells": [
  {
   "cell_type": "code",
   "execution_count": null,
   "metadata": {},
   "outputs": [],
   "source": [
    "# 5、计数排序（时间复杂度：平均O(d(n+rd))/最坏O(d(n+rd))、空间复杂度：O(rd)）\n",
    "#   计数排序是一种借助多关键字排序思想对单逻辑关键字进行排序的方法。实现计数排序不需要进行记录关键字间的比较。"
   ]
  }
 ],
 "metadata": {
  "language_info": {
   "name": "python"
  },
  "orig_nbformat": 4
 },
 "nbformat": 4,
 "nbformat_minor": 2
}
