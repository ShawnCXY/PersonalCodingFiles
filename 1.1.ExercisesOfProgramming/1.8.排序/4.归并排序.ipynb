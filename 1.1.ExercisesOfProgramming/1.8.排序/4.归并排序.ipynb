{
 "cells": [
  {
   "cell_type": "markdown",
   "metadata": {},
   "source": [
    "4、归并排序（时间复杂度：平均O(nlogn)/最坏O(nlogn)、空间复杂度：O(n)）\n",
    "    1）2路归并排序：将两个或两个以上的有序表组合成一个新的有序表。"
   ]
  },
  {
   "cell_type": "code",
   "execution_count": 2,
   "metadata": {},
   "outputs": [],
   "source": [
    "# 1）2路归并排序\n",
    "# 时间复杂度：平均O(nlogn)/最坏O(nlogn)、空间复杂度：O(n)\n",
    "def merge(left,right):\n",
    "    result = []\n",
    "    while left and right:\n",
    "        if left[0] <= right[0]:\n",
    "            result.append(left.pop(0))\n",
    "        else:\n",
    "            result.append(right.pop(0));\n",
    "    while left:\n",
    "        result.append(left.pop(0))\n",
    "    while right:\n",
    "        result.append(right.pop(0));\n",
    "    return result\n",
    "\n",
    "def mergeSort(arr):\n",
    "    if(len(arr)<2):\n",
    "        return arr\n",
    "    middle = len(arr)//2\n",
    "    left, right = arr[0:middle], arr[middle:]\n",
    "    return merge(mergeSort(left), mergeSort(right))\n"
   ]
  },
  {
   "cell_type": "code",
   "execution_count": 3,
   "metadata": {},
   "outputs": [
    {
     "name": "stdout",
     "output_type": "stream",
     "text": [
      "[0, 1, 2, 3, 4, 5, 6, 7, 8, 9]\n"
     ]
    }
   ],
   "source": [
    "arr = [8,0,1,4,5,2,6,7,3,9]\n",
    "print(mergeSort(arr.copy()))"
   ]
  }
 ],
 "metadata": {
  "kernelspec": {
   "display_name": "Python 3.5.4 ('python3.5')",
   "language": "python",
   "name": "python3"
  },
  "language_info": {
   "codemirror_mode": {
    "name": "ipython",
    "version": 3
   },
   "file_extension": ".py",
   "mimetype": "text/x-python",
   "name": "python",
   "nbconvert_exporter": "python",
   "pygments_lexer": "ipython3",
   "version": "3.5.4"
  },
  "orig_nbformat": 4,
  "vscode": {
   "interpreter": {
    "hash": "d36d0aa789db2a0cdb40f2b2dc06ff6d6e10c9ec818a8016b7492b3da831fa4e"
   }
  }
 },
 "nbformat": 4,
 "nbformat_minor": 2
}
