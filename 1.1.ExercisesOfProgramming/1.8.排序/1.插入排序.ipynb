{
 "cells": [
  {
   "cell_type": "markdown",
   "metadata": {},
   "source": [
    "1、插入排序\n",
    "    1）直接插入排序：将一个记录插入到已排好序的有序表中，从而得到一个新的、记录数增1的有序表。\n",
    "    2）折半插入排序\n",
    "    3）2路插入排序\n",
    "    4）表插入排序\n",
    "    5）希尔排序：先将整个待排序记录序列分割成若干子序列，分别进行直接插入排序；待整个序列中的记录基本有序时，再对全体记录进行一次直接插入排序。"
   ]
  },
  {
   "cell_type": "code",
   "execution_count": 2,
   "metadata": {},
   "outputs": [],
   "source": [
    "# 1) 直接插入排序\n",
    "# 基本思想：将一个记录插入到已排好序的有序表中，从而得到一个新的、记录数增1的有序表。\n",
    "# 时间复杂度：平均O(n^2)、最坏O(n^2)\n",
    "# 空间复杂度：O(1)\n",
    "def insertSort(arr):\n",
    "    for i in range(1,len(arr)):\n",
    "        j = i\n",
    "        while j > 0 and arr[j] < arr[j-1]:\n",
    "            arr[j], arr[j-1] = arr[j-1], arr[j]\n",
    "            j -= 1\n",
    "    return arr"
   ]
  },
  {
   "cell_type": "code",
   "execution_count": 8,
   "metadata": {},
   "outputs": [],
   "source": [
    "# 2) 折半插入排序\n",
    "# 基本思想：将一个记录插入到已排好序的有序表中，从而得到一个新的、记录数增1的有序表。\n",
    "# 时间复杂度：平均O(n^2)、最坏O(n^2)\n",
    "# 空间复杂度：O(1)\n",
    "def bInsertSort(arr):\n",
    "    for i in range(1, len(arr)):\n",
    "        l, r = 0, i-1\n",
    "        while l <= r:\n",
    "            m = (l+r)>>1\n",
    "            if arr[m] <= arr[i]:\n",
    "                l = m+1\n",
    "            else:\n",
    "                r = m-1\n",
    "        for j in range(i, r+1, -1):\n",
    "            arr[j], arr[j-1] = arr[j-1], arr[j]\n",
    "    return arr\n",
    "\n",
    "# 从时间方面比较来看，折半插入排序仅减少了关键字间的比较次数，而记录的移动次数不变。因此，折半插入排序的时间复杂度仍为O(n^2)。"
   ]
  },
  {
   "cell_type": "code",
   "execution_count": 18,
   "metadata": {},
   "outputs": [],
   "source": [
    "# 6）希尔排序\n",
    "# 基本思想：先将整个待排序记录序列分割成若干子序列，分别进行直接插入排序；待整个序列中的记录基本有序时，再对全体记录进行一次直接插入排序。\n",
    "# 时间复杂度：平均O(n^2)、最坏O(n^2)\n",
    "# 空间复杂度：O(1)\n",
    "def shellInsert(arr, detal):\n",
    "    for i in range(detal, len(arr)):\n",
    "        j = i \n",
    "        while j > 0 and arr[j] < arr[j-detal]:\n",
    "            arr[j], arr[j-detal] = arr[j-detal], arr[j]\n",
    "            j -= detal\n",
    "\n",
    "def shellSort(arr):\n",
    "    for detal in [5,3,1]:\n",
    "        shellInsert(arr, detal)\n",
    "    return arr\n",
    "\n",
    "# 从对直接排序的分析得知，其算法时间复杂度为O(n^2)，但是当待排序记录序列为“正序”时，其时间复杂度可提高至O(n)。\n",
    "# 由此可设想，若待排序记录序列按照关键字“基本有序”,直接插入排序的效率就可大大提高。从另外一个方面来看，由于直接插入排序算法简单，则在n很小的时候效率也比较高。\n",
    "# 希尔排序正是从这两点分析出发对直接插入排序进行改造得到的一种插入排序方法。"
   ]
  },
  {
   "cell_type": "code",
   "execution_count": 19,
   "metadata": {},
   "outputs": [
    {
     "name": "stdout",
     "output_type": "stream",
     "text": [
      "[0, 1, 2, 3, 4, 5, 6, 7, 8, 9]\n",
      "[0, 1, 2, 3, 4, 5, 6, 7, 8, 9]\n",
      "[0, 1, 2, 3, 4, 5, 6, 7, 8, 9]\n"
     ]
    }
   ],
   "source": [
    "arr = [8,0,1,4,5,2,6,7,3,9]\n",
    "print(insertSort(arr.copy()))\n",
    "print(bInsertSort(arr.copy()))\n",
    "print(shellSort(arr.copy()))"
   ]
  },
  {
   "cell_type": "code",
   "execution_count": 21,
   "metadata": {},
   "outputs": [
    {
     "name": "stdout",
     "output_type": "stream",
     "text": [
      "[1, 8]\n",
      "[1, 8]\n",
      "[1, 8]\n"
     ]
    }
   ],
   "source": [
    "arr = [8,1]\n",
    "print(insertSort(arr.copy()))\n",
    "print(bInsertSort(arr.copy()))\n",
    "print(shellSort(arr.copy()))"
   ]
  }
 ],
 "metadata": {
  "kernelspec": {
   "display_name": "Python 3.5.4 ('python3.5')",
   "language": "python",
   "name": "python3"
  },
  "language_info": {
   "codemirror_mode": {
    "name": "ipython",
    "version": 3
   },
   "file_extension": ".py",
   "mimetype": "text/x-python",
   "name": "python",
   "nbconvert_exporter": "python",
   "pygments_lexer": "ipython3",
   "version": "3.5.4"
  },
  "orig_nbformat": 4,
  "vscode": {
   "interpreter": {
    "hash": "d36d0aa789db2a0cdb40f2b2dc06ff6d6e10c9ec818a8016b7492b3da831fa4e"
   }
  }
 },
 "nbformat": 4,
 "nbformat_minor": 2
}
