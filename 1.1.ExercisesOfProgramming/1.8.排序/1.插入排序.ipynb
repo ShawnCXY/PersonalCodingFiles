{
 "cells": [
  {
   "cell_type": "code",
   "execution_count": null,
   "metadata": {},
   "outputs": [],
   "source": [
    "# 1、插入排序\n",
    "# 1）直接插入排序：将一个记录插入到已排好序的有序表中，从而得到一个新的、记录数增1的有序表。\n",
    "# 2）折半插入排序\n",
    "# 3）2路插入排序\n",
    "# 4）表插入排序\n",
    "# 5）希尔排序：先将整个待排序记录序列分割成若干子序列，分别进行直接插入排序；待整个序列中的记录基本有序时，再对全体记录进行一次直接插入排序。"
   ]
  },
  {
   "cell_type": "code",
   "execution_count": 2,
   "metadata": {},
   "outputs": [],
   "source": [
    "# 直接插入排序\n",
    "# 思想：将一个记录插入到已排好序的有序表中，从而得到一个新的、记录数增1的有序表。\n",
    "# 时间复杂度：平均O(n^2)、最坏O(n^2)\n",
    "# 空间复杂度：O(1)\n",
    "def insertSort(arr):\n",
    "    for i in range(1,len(arr)):\n",
    "        if arr[i] < arr[i-1]:\n",
    "            temp = arr[i]\n",
    "            j = i-1\n",
    "            while j >= 0 and temp < arr[j]:\n",
    "                arr[j+1] = arr[j]\n",
    "                j -= 1\n",
    "            arr[j+1] = temp\n",
    "    return arr"
   ]
  },
  {
   "cell_type": "code",
   "execution_count": null,
   "metadata": {},
   "outputs": [],
   "source": []
  },
  {
   "cell_type": "code",
   "execution_count": 4,
   "metadata": {},
   "outputs": [
    {
     "name": "stdout",
     "output_type": "stream",
     "text": [
      "[0, 1, 2, 3, 4, 5, 6, 7, 8, 9]\n"
     ]
    }
   ],
   "source": [
    "arr = [8,0,1,4,5,2,6,7,3,9]\n",
    "print(insertSort(arr.copy()))"
   ]
  }
 ],
 "metadata": {
  "interpreter": {
   "hash": "8668f5755210c1292fd1bdc78b88c4073d38eab89bdbbbd532bb2f2e581ea9bd"
  },
  "kernelspec": {
   "display_name": "Python 3.5.4 ('python3.5')",
   "language": "python",
   "name": "python3"
  },
  "language_info": {
   "codemirror_mode": {
    "name": "ipython",
    "version": 3
   },
   "file_extension": ".py",
   "mimetype": "text/x-python",
   "name": "python",
   "nbconvert_exporter": "python",
   "pygments_lexer": "ipython3",
   "version": "3.5.4"
  },
  "orig_nbformat": 4
 },
 "nbformat": 4,
 "nbformat_minor": 2
}
