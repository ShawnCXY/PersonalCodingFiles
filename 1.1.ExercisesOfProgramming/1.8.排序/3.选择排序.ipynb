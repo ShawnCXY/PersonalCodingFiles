{
 "cells": [
  {
   "cell_type": "code",
   "execution_count": null,
   "metadata": {},
   "outputs": [],
   "source": [
    "# 3、选择排序\n",
    "# 1）简单选择排序：每一趟在n-i+1(i=1,2,...,n-1)个记录中，选取关键字最小的记录作为有序序列中的第i个记录，\n",
    "# 2）树形选择排序：又称锦标赛排序，是一种按照锦标赛的思想进行选择排序的方法。\n",
    "# 3）堆排序：（时间复杂度：平均O(nlogn)/最坏O(nlogn)、空间复杂度：O(1)）"
   ]
  }
 ],
 "metadata": {
  "language_info": {
   "name": "python"
  },
  "orig_nbformat": 4
 },
 "nbformat": 4,
 "nbformat_minor": 2
}
