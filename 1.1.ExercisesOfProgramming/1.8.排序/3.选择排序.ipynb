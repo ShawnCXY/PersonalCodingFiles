{
 "cells": [
  {
   "cell_type": "markdown",
   "metadata": {},
   "source": [
    "3、选择排序\n",
    "    1）简单选择排序：每一趟在n-i+1(i=1,2,...,n-1)个记录中，选取关键字最小的记录作为有序序列中的第i个记录，\n",
    "    2）树形选择排序：又称锦标赛排序，是一种按照锦标赛的思想进行选择排序的方法。\n",
    "    3）堆排序：实现堆排序需要解决两个问题：1）如何由一个无序序列建成一个堆？如何在输出堆顶元素之后，调整剩余元素成为一个新的堆？\n",
    "    （时间复杂度：平均O(nlogn)/最坏O(nlogn)、空间复杂度：O(1)）\n",
    "    堆的定义：(k_i<=k_2i and k_i<=k_2i+1) or (k_i>=k_2i and k_i>=k_2i+1)"
   ]
  },
  {
   "cell_type": "code",
   "execution_count": 1,
   "metadata": {},
   "outputs": [],
   "source": [
    "# 1）简单选择排序\n",
    "# 时间复杂度：平均O(n^2)/最坏O(n^2)、空间复杂度：O(1)\n",
    "def selectSort(arr):\n",
    "    for i in range(len(arr)):\n",
    "        minIndex = i \n",
    "        for j in range(i, len(arr)):\n",
    "            if arr[j] < arr[minIndex]:\n",
    "                minIndex = j\n",
    "        arr[i], arr[minIndex] = arr[minIndex], arr[i]\n",
    "    return arr "
   ]
  },
  {
   "cell_type": "code",
   "execution_count": 2,
   "metadata": {},
   "outputs": [],
   "source": [
    "# 3）堆排序\n",
    "# 时间复杂度：平均O(nlogn)/最坏O(nlogn)、空间复杂度：O(1)\n",
    "def heapAdjust(arr, s, e):\n",
    "    temp = arr[s]\n",
    "    j = s*2+1\n",
    "    while j <= e:\n",
    "        if j < e and arr[j] < arr[j+1]:\n",
    "            j += 1\n",
    "        if temp >= arr[j]:\n",
    "            break\n",
    "        arr[s] = arr[j]\n",
    "        s = j \n",
    "        j = s*2+1\n",
    "    arr[s] = temp\n",
    "\n",
    "def heapSort(arr):\n",
    "    # 建堆\n",
    "    for i in range(len(arr)//2-1, -1, -1):\n",
    "        heapAdjust(arr, i, len(arr)-1)\n",
    "    # 排序\n",
    "    for i in range(len(arr)-1, 0, -1):\n",
    "        arr[i], arr[0] = arr[0], arr[i]\n",
    "        heapAdjust(arr, 0, i-1)\n",
    "    return arr"
   ]
  },
  {
   "cell_type": "code",
   "execution_count": 4,
   "metadata": {},
   "outputs": [
    {
     "name": "stdout",
     "output_type": "stream",
     "text": [
      "[0, 1, 2, 3, 4, 5, 6, 7, 8, 9]\n",
      "[0, 1, 2, 3, 4, 5, 6, 7, 8, 9]\n"
     ]
    }
   ],
   "source": [
    "arr = [8,0,1,4,5,2,6,7,3,9]\n",
    "print(selectSort(arr.copy()))\n",
    "print(heapSort(arr.copy()))"
   ]
  }
 ],
 "metadata": {
  "kernelspec": {
   "display_name": "Python 3.5.4 ('python3.5')",
   "language": "python",
   "name": "python3"
  },
  "language_info": {
   "codemirror_mode": {
    "name": "ipython",
    "version": 3
   },
   "file_extension": ".py",
   "mimetype": "text/x-python",
   "name": "python",
   "nbconvert_exporter": "python",
   "pygments_lexer": "ipython3",
   "version": "3.9.6"
  },
  "orig_nbformat": 4,
  "vscode": {
   "interpreter": {
    "hash": "d36d0aa789db2a0cdb40f2b2dc06ff6d6e10c9ec818a8016b7492b3da831fa4e"
   }
  }
 },
 "nbformat": 4,
 "nbformat_minor": 2
}
