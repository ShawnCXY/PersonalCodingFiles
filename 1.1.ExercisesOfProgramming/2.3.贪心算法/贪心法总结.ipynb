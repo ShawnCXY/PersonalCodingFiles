{
 "cells": [
  {
   "cell_type": "code",
   "execution_count": null,
   "metadata": {},
   "outputs": [],
   "source": [
    "# 一、基本思想\n",
    "# 动态规划（Dynamic Programming）是求多阶段决策过程（Multistep Decision Process）最优化的一种数学方法。\n",
    "# 它将问题的整体按时间或空间的特征分成若干个前后衔接的时空阶段，把多阶段决策问题表示为前后有关的一系列单阶段决策问题，然后逐个求解，从而求出整个问题的最有决策序列。\n",
    "# 它强调了时间和空间的连续性。\n",
    "\n",
    "\n",
    "# 二、解题步骤（一般情况下）\n",
    "\n",
    "# 三、核心名词解释\n",
    "\n",
    "# 四、经典问题\n"
   ]
  }
 ],
 "metadata": {
  "language_info": {
   "name": "python"
  },
  "orig_nbformat": 4
 },
 "nbformat": 4,
 "nbformat_minor": 2
}
