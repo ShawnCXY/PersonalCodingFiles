{
 "cells": [
  {
   "cell_type": "markdown",
   "metadata": {},
   "source": [
    "一、基本思想\n",
    "1）当一个问题具有最优子结构性质时，可用动态规划法求解，但有时会有更简单有效的算法。\n",
    "2）贪心算法并不是从整体最优上加以考虑，它所做的选择只是在某种意义上的局部最优选择。\n",
    "3）对于一个具体的问题，怎么知道是否可以用贪心算法来解此问题？以及能否得到问题的一个最优解？这个问题很难给予肯定的回答。\n",
    "4）从许多可以用贪心算法求解的问题中可以看到，它们一般具有两个重要的性质：贪心选择性质和最优子结构性质。\n",
    "5）贪心算法所做的贪心选择可以依赖于过往所做的选择，但决不依赖于将来所做的选择，也不依赖于子问题的解。\n",
    "6）动态规划算法通常以自底向上的方式解答各子问题，而贪心算法则通常以自顶向下的方式进行，以迭代的方式做出相继的贪心选择。每做一次贪心选择就将所求问题化简为规模更小的子问题。\n",
    "\n",
    "\n",
    "二、解题步骤（一般情况下）\n",
    "\n",
    "三、核心名词解释\n",
    "1）最优子结构性质：当一个问题的最优解包含其子问题的最优解时，称此问题具有最优子结构性质。\n",
    "2）贪心选择性质：是指所求问题的整体最优解可以通过一系列局部最优的选择，即贪心选择来达到。这是贪心算法可行的第一个基本要素，也是贪心算法与动态规划算法的主要区别。\n",
    "\n",
    "四、经典问题\n",
    "1）活动安排问题；\n",
    "2）最优装载问题；\n",
    "3）哈夫曼编码；\n",
    "4）单源最短路径；\n",
    "5）最小生成树；\n",
    "6）多机调度问题；"
   ]
  },
  {
   "cell_type": "code",
   "execution_count": null,
   "metadata": {},
   "outputs": [],
   "source": []
  }
 ],
 "metadata": {
  "interpreter": {
   "hash": "8668f5755210c1292fd1bdc78b88c4073d38eab89bdbbbd532bb2f2e581ea9bd"
  },
  "kernelspec": {
   "display_name": "Python 3.5.4 ('python3.5')",
   "language": "python",
   "name": "python3"
  },
  "language_info": {
   "codemirror_mode": {
    "name": "ipython",
    "version": 3
   },
   "file_extension": ".py",
   "mimetype": "text/x-python",
   "name": "python",
   "nbconvert_exporter": "python",
   "pygments_lexer": "ipython3",
   "version": "3.5.4"
  },
  "orig_nbformat": 4
 },
 "nbformat": 4,
 "nbformat_minor": 2
}
