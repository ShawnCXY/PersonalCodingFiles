{
 "cells": [
  {
   "cell_type": "code",
   "execution_count": null,
   "metadata": {},
   "outputs": [],
   "source": [
    "# 问题描述：给定一组物品，每种物品都有自己的重量和价值。在限定的总重量内，我们如何选择，才能使得物品的总价值最高。\n",
    "# 背包问题有以下几种分类：1）0-1背包问题；2）完全背包问题；3）多重背包问题。此外，还存在一些其他考法，例如恰好装满、求方案总数、求所有的方案等。\n",
    "\n",
    "# 1）0-1背包问题：一共有N件物品，第i件物品的重量为w[i]，价值为v[i]。在总重量不超过背包承载上限W的情况下，能够装入背包的最大价值是多少？\n",
    "# 2）完全背包问题：一共有N种物品，每种物品有无限多个，第i种物品的重量为w[i]，价值为v[i]。在总重量不超过背包承载上限W的情况下，能够装入背包的最大价值是多少？与0-1背包不同就是每种物品可以有无限多个。\n",
    "# 3）多重背包问题：一共有N种物品，第i种物品的数量为n[i]，重量为w[i]，价值为v[i]。在总重量不超过背包承载上限W的情况下，能够装入背包的最大价值是多少？与前面不同就是每种物品是有限个。\n",
    "\n"
   ]
  },
  {
   "cell_type": "code",
   "execution_count": null,
   "metadata": {},
   "outputs": [],
   "source": [
    "# 参考资料\n",
    "# 1）动态规划之背包问题系列（https://zhuanlan.zhihu.com/p/93857890）；"
   ]
  },
  {
   "cell_type": "code",
   "execution_count": 2,
   "metadata": {},
   "outputs": [
    {
     "data": {
      "text/plain": [
       "{1, 2, 3}"
      ]
     },
     "execution_count": 2,
     "metadata": {},
     "output_type": "execute_result"
    }
   ],
   "source": [
    "a = set([1,2,3])\n",
    "a"
   ]
  },
  {
   "cell_type": "code",
   "execution_count": 3,
   "metadata": {},
   "outputs": [
    {
     "data": {
      "text/plain": [
       "{1, 3}"
      ]
     },
     "execution_count": 3,
     "metadata": {},
     "output_type": "execute_result"
    }
   ],
   "source": [
    "a.remove(2)\n",
    "a"
   ]
  }
 ],
 "metadata": {
  "kernelspec": {
   "display_name": "Python 3.7.12 ('forecasting')",
   "language": "python",
   "name": "python3"
  },
  "language_info": {
   "codemirror_mode": {
    "name": "ipython",
    "version": 3
   },
   "file_extension": ".py",
   "mimetype": "text/x-python",
   "name": "python",
   "nbconvert_exporter": "python",
   "pygments_lexer": "ipython3",
   "version": "3.7.12"
  },
  "orig_nbformat": 4,
  "vscode": {
   "interpreter": {
    "hash": "c2beff428ffae4fa9856f2de5e011d1caf57d800f217c4520a728150e96aff1c"
   }
  }
 },
 "nbformat": 4,
 "nbformat_minor": 2
}
