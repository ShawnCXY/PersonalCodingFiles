{
 "cells": [
  {
   "cell_type": "markdown",
   "metadata": {},
   "source": [
    "\n",
    "1. 深度优先遍历\n",
    "深度优先遍历指的是，从树的根节点开始，先遍历左子树，然后遍历右子树。我们借助栈结构来实现深度优先遍历。\n",
    "\n",
    "应用场景： 前序遍历、中序遍历、后序遍历\n",
    "\n",
    "2. 广度优先遍历\n",
    "从根节点开始，沿着树的宽度依次遍历树的每个节点。我们借助队列结构来实现树的广度优先遍历。\n",
    "\n",
    "应用场景： 层序遍历"
   ]
  },
  {
   "cell_type": "code",
   "execution_count": null,
   "metadata": {},
   "outputs": [],
   "source": [
    "# 前序遍历"
   ]
  },
  {
   "cell_type": "code",
   "execution_count": null,
   "metadata": {},
   "outputs": [],
   "source": [
    "# 中序遍历\n"
   ]
  },
  {
   "cell_type": "code",
   "execution_count": null,
   "metadata": {},
   "outputs": [],
   "source": [
    "# 后序遍历\n"
   ]
  },
  {
   "cell_type": "code",
   "execution_count": null,
   "metadata": {},
   "outputs": [],
   "source": [
    "# 层序遍历\n"
   ]
  }
 ],
 "metadata": {
  "language_info": {
   "name": "python"
  },
  "orig_nbformat": 4
 },
 "nbformat": 4,
 "nbformat_minor": 2
}
